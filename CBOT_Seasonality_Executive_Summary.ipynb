{
 "cells": [
  {
   "cell_type": "markdown",
   "metadata": {},
   "source": [
    "# Is seasonality a good predictor of implied volatility?\n",
    "\n",
    "The goal of this project is to test whether or not seasonality is a good predictor of implied volatility in CBOT grain products. The full project attempted four methods to predict model implied volatility, settling on a cubic spline interpolation. This is the implementation of that model."
   ]
  },
  {
   "cell_type": "code",
   "execution_count": 1,
   "metadata": {},
   "outputs": [],
   "source": [
    "#import relevant libraries\n",
    "import numpy as np\n",
    "import pandas as pd\n",
    "import matplotlib.pyplot as plt\n",
    "import datetime as dt\n",
    "import scipy as sp\n",
    "\n",
    "from scipy.interpolate import UnivariateSpline\n",
    "\n",
    "#from scipy.optimize import curve_fit"
   ]
  },
  {
   "cell_type": "markdown",
   "metadata": {},
   "source": [
    "### In the section below, we aggregate implied volatility data into a data frame.\n",
    "\n",
    "In order to test our initial hypothesis, we need to pull some implied vol data and aggregate it into a single dataframe. We are using CSV files exported from a subscription website. Next, we need to set a range of days-to-expiration that we want to study, and drop any data not related to implied vol or that DTE range."
   ]
  },
  {
   "cell_type": "markdown",
   "metadata": {},
   "source": [
    "#### Create function to pull volatility data "
   ]
  },
  {
   "cell_type": "code",
   "execution_count": 2,
   "metadata": {},
   "outputs": [],
   "source": [
    "# created custom function to wrap up data cleaning work on vol csv files\n",
    "# its primary purpose is to take a CSV file and extract only the front month vols\n",
    "\n",
    "def front_vol_pull(csv, min_dte, max_dte, obs_id='Observation Date',\n",
    "                   vol_id='result', title_id='Stat', exp_id='exp_date0', \n",
    "                   location='C:/Users/Trader/Desktop/Dropbox/Data Science/DataSets/ImpVol/'):\n",
    "    \"\"\"\n",
    "    csv input must be a .CSV file with file extension. location must be a full file location folder. \n",
    "    min_dte & max_dte must be integers. obs_id describes heading above colume with dates, \n",
    "    title_id describes heading above column with data descriptions,\n",
    "    vol_id describes desired data from title_id column in csv, exp_id describes expiration date title in Stat column\n",
    "    \"\"\"\n",
    "    \n",
    "    # read in csv file from location as csv input\n",
    "    df = pd.read_csv(location+csv, index_col=False)\n",
    "    \n",
    "    # converts 'Observation Date' column in csv from string to pandas datetime object\n",
    "    df[obs_id] = pd.to_datetime(df[obs_id])\n",
    "    \n",
    "    # creates two dataframes, one with vol data and one with expiry dates\n",
    "    dfvols = df.loc[df[title_id] == vol_id]\n",
    "    dfexp = df.loc[df[title_id] == exp_id]\n",
    "    \n",
    "    # rename data column in vol dataframe to 'Vol'. 'Value' is heading of column with numerical data\n",
    "    dfvols.rename(columns={'Value':'Vol'}, inplace=True)\n",
    "    \n",
    "    # create truncated version of dfexp containing just the observation date and the expiry\n",
    "    # promote the 'Observation Date' & 'Year' column to the multi-index of the dataframe\n",
    "    # need to use multi-index to join with other dataframes\n",
    "    dfexp_trunc = dfexp[[obs_id, 'Year', 'Value']]\n",
    "    dfexp_trunc = dfexp_trunc.set_index([obs_id, 'Year'])\n",
    "    \n",
    "    # join the two dataframes on the multi-index of 'Observation Date' & 'Year'\n",
    "    dfvols_exp = dfvols.join(dfexp_trunc, on=[obs_id, 'Year'])\n",
    "    \n",
    "    # remove 'Stat' column and rename 'Value' to 'Expiry'\n",
    "    del dfvols_exp[title_id]\n",
    "    dfvols_exp.rename(columns={'Value':'Expiry'}, inplace=True)\n",
    "    \n",
    "    # converts 'Expiry' data to a pandas datetime object\n",
    "    dfvols_exp['Expiry'] = pd.to_datetime(dfvols_exp['Expiry'])\n",
    "    \n",
    "    # creates new column with Days to Expiration as a timedelta\n",
    "    dfvols_exp['DTE'] = dfvols_exp['Expiry'] - dfvols_exp[obs_id]\n",
    "    \n",
    "    # converts dte inputs to timedelta objects and creates new dataframe with filtered dates\n",
    "    max_dte = pd.Timedelta(days=max_dte)\n",
    "    min_dte = pd.Timedelta(days=min_dte)\n",
    "    df_fronts = dfvols_exp[(dfvols_exp['DTE'] <= max_dte) & (dfvols_exp['DTE'] > min_dte)]\n",
    "    \n",
    "    return df_fronts"
   ]
  },
  {
   "cell_type": "markdown",
   "metadata": {},
   "source": [
    "#### Pull and clean volatility data\n",
    "\n",
    "From here, we want to use the custom `front_vol_pull` function on a list of csv files containing implied volatility data. Then sort the data by time to expiration and drop any duplicate dates"
   ]
  },
  {
   "cell_type": "code",
   "execution_count": null,
   "metadata": {},
   "outputs": [],
   "source": []
  },
  {
   "cell_type": "code",
   "execution_count": 3,
   "metadata": {},
   "outputs": [],
   "source": [
    "# create list of vol files\n",
    "\n",
    "vol_files = ['SFvol.csv','SHvol.csv','SKvol.csv','SNvol.csv','SQvol.csv','SUvol.csv','SXvol.csv']"
   ]
  },
  {
   "cell_type": "code",
   "execution_count": 4,
   "metadata": {},
   "outputs": [
    {
     "name": "stderr",
     "output_type": "stream",
     "text": [
      "C:\\Users\\Trader\\Anaconda3\\lib\\site-packages\\pandas\\core\\frame.py:3781: SettingWithCopyWarning: \n",
      "A value is trying to be set on a copy of a slice from a DataFrame\n",
      "\n",
      "See the caveats in the documentation: http://pandas.pydata.org/pandas-docs/stable/indexing.html#indexing-view-versus-copy\n",
      "  return super(DataFrame, self).rename(**kwargs)\n"
     ]
    }
   ],
   "source": [
    "# create one large df with all data; create list of dataframes and concatenate them at the end of the process\n",
    "\n",
    "full_data_set = pd.DataFrame()\n",
    "\n",
    "for i in vol_files:\n",
    "    df = front_vol_pull(i,10,80)\n",
    "    full_data_set = full_data_set.append(df)"
   ]
  },
  {
   "cell_type": "code",
   "execution_count": 5,
   "metadata": {},
   "outputs": [],
   "source": [
    "# sort full_data_set based on DTE, drop entries with observation date overlap, keep shortest DTE\n",
    "# re-sort by 'Observation Date' for better clarity, redefine as final_data\n",
    "# can add parameter 'ascending=False' after 'DTE' to keep longer dated vols and avoid some front month noise\n",
    "\n",
    "full_data_set = full_data_set.sort_values('DTE').drop_duplicates('Observation Date', keep='first')\n",
    "full_data_set = full_data_set.sort_values('Observation Date')\n",
    "\n",
    "final_data = full_data_set"
   ]
  },
  {
   "cell_type": "code",
   "execution_count": 6,
   "metadata": {},
   "outputs": [],
   "source": [
    "# convert values in 'Vol' column from string to float\n",
    "\n",
    "final_data['Vol'] =  final_data['Vol'].astype(float)"
   ]
  },
  {
   "cell_type": "code",
   "execution_count": 7,
   "metadata": {},
   "outputs": [],
   "source": [
    "# limit data to contract years 2014 or later\n",
    "\n",
    "recent_data2 = final_data[final_data['Year'] > 2013]"
   ]
  },
  {
   "cell_type": "code",
   "execution_count": 8,
   "metadata": {},
   "outputs": [],
   "source": [
    "# create function to map day number to calendar date in pd.datetime format\n",
    "\n",
    "def day_num(date):\n",
    "    year = date.year\n",
    "    start = pd.datetime(year-1,12,31)\n",
    "    day = date - start\n",
    "    return(day.days)"
   ]
  },
  {
   "cell_type": "code",
   "execution_count": 9,
   "metadata": {},
   "outputs": [
    {
     "name": "stderr",
     "output_type": "stream",
     "text": [
      "C:\\Users\\Trader\\Anaconda3\\lib\\site-packages\\ipykernel_launcher.py:3: SettingWithCopyWarning: \n",
      "A value is trying to be set on a copy of a slice from a DataFrame.\n",
      "Try using .loc[row_indexer,col_indexer] = value instead\n",
      "\n",
      "See the caveats in the documentation: http://pandas.pydata.org/pandas-docs/stable/indexing.html#indexing-view-versus-copy\n",
      "  This is separate from the ipykernel package so we can avoid doing imports until\n"
     ]
    }
   ],
   "source": [
    "# map day_num function to 'Observation Date'\n",
    "\n",
    "recent_data2['Day Num'] = recent_data2.apply(lambda x: day_num(x['Observation Date']), axis=1)"
   ]
  },
  {
   "cell_type": "code",
   "execution_count": 10,
   "metadata": {},
   "outputs": [],
   "source": [
    "# create a list of dataframes, each containing day number and vol for that day\n",
    "\n",
    "years = range(2014,2019)\n",
    "\n",
    "data_by_year = []\n",
    "for year in years:\n",
    "    data = recent_data2[(recent_data2['Observation Date'] <= pd.datetime(year,12,31))\n",
    "                         & (recent_data2['Observation Date'] >= pd.datetime(year,1,1))]\n",
    "    data = data[['Day Num','Vol']]\n",
    "    data.set_index('Day Num', inplace=True)\n",
    "    data_by_year.append(data)"
   ]
  },
  {
   "cell_type": "code",
   "execution_count": 11,
   "metadata": {},
   "outputs": [],
   "source": [
    "# create a new dataframe containing a range of day numbers\n",
    "\n",
    "vol_data = pd.DataFrame({'Day Num': range(0,367)})"
   ]
  },
  {
   "cell_type": "code",
   "execution_count": 12,
   "metadata": {},
   "outputs": [],
   "source": [
    "# years = range(2014,2018)\n",
    "# vol_data = pd.DataFrame({'Day Num': range(0,367)})\n",
    "# for year in years:\n",
    "#     vol_data = vol_data.join(data_by_year, on='Day Num')\n",
    "#     vol_data.rename(columns={'Vol': year}, inplace=True)\n",
    "#     vol_data = vol_data[['Day Num', year]]\n",
    "#     #vol_data.set_index('Day Num', inplace=True)\n",
    "#     data_by_year.append(data)"
   ]
  },
  {
   "cell_type": "code",
   "execution_count": 13,
   "metadata": {},
   "outputs": [],
   "source": [
    "vol_data = vol_data.join(data_by_year[0], on='Day Num', rsuffix='_2014')\n",
    "vol_data.rename(columns={'Vol': '2014'}, inplace=True)\n",
    "\n",
    "vol_data = vol_data.join(data_by_year[1], on='Day Num', rsuffix='_2015')\n",
    "vol_data.rename(columns={'Vol': '2015'}, inplace=True)\n",
    "\n",
    "vol_data = vol_data.join(data_by_year[2], on='Day Num', rsuffix='_2016')\n",
    "vol_data.rename(columns={'Vol': '2016'}, inplace=True)\n",
    "\n",
    "vol_data = vol_data.join(data_by_year[3], on='Day Num', rsuffix='_2017')\n",
    "vol_data.rename(columns={'Vol': '2017'}, inplace=True)\n",
    "\n",
    "vol_data = vol_data.join(data_by_year[4], on='Day Num', rsuffix='_2018')\n",
    "vol_data.rename(columns={'Vol': '2018'}, inplace=True)"
   ]
  },
  {
   "cell_type": "code",
   "execution_count": 14,
   "metadata": {},
   "outputs": [],
   "source": [
    "# impute implied volatility for days with 'NaN' in vol_data dataframe\n",
    "# because NaN values are weekend days or holidays, \n",
    "# we can assume the implied volatility for that day is equal to the nearst day. \n",
    "# i.e. The implied vol on Saturday when markets are closed is assumed to be the implied vol at close on Friday\n",
    "# limit=1 means only 1 NaN value will be filled. Alternate bfill & ffill to get best approximation\n",
    "\n",
    "vol_data = vol_data.fillna(method='ffill', limit=1)\n",
    "vol_data = vol_data.fillna(method='bfill', limit=1)\n",
    "vol_data = vol_data.fillna(method='ffill', limit=1)\n",
    "vol_data = vol_data.fillna(method='bfill', limit=1)"
   ]
  },
  {
   "cell_type": "code",
   "execution_count": 15,
   "metadata": {},
   "outputs": [],
   "source": [
    "# create column with average of year columns\n",
    "\n",
    "vol_data['Day Avg Vol'] = vol_data[['2014', '2015', '2016', '2017', '2018']].mean(axis=1)"
   ]
  },
  {
   "cell_type": "code",
   "execution_count": 16,
   "metadata": {},
   "outputs": [],
   "source": [
    "# create X and y data\n",
    "\n",
    "Xdata = vol_data['Day Num']\n",
    "ydata = vol_data['Day Avg Vol']"
   ]
  },
  {
   "cell_type": "markdown",
   "metadata": {},
   "source": [
    "Were going to implement a regression spline using knots along the path of average vol through the year. \n",
    "\n",
    "Wrap into single function all below"
   ]
  },
  {
   "cell_type": "code",
   "execution_count": 17,
   "metadata": {},
   "outputs": [],
   "source": [
    "def create_spline(Xdata, ydata, polynomial=3, smoothing=800):\n",
    "\n",
    "    # k is the number of terms in the polynomials that comprise the spline, 3 = cubic\n",
    "    # s is a smoothing factor\n",
    "    spl = UnivariateSpline(Xdata, ydata, k=polynomial, s=smoothing)\n",
    "    \n",
    "    # creates function for first derivative of spl spline implemented above, used in graph\n",
    "    derivative = spl.derivative()\n",
    "    \n",
    "    \n",
    "    \n",
    "    \n",
    "    return spl, derivative"
   ]
  },
  {
   "cell_type": "code",
   "execution_count": 18,
   "metadata": {},
   "outputs": [
    {
     "data": {
      "text/plain": [
       "(<scipy.interpolate.fitpack2.UnivariateSpline at 0x9064668>,\n",
       " <scipy.interpolate.fitpack2.UnivariateSpline at 0x90648d0>)"
      ]
     },
     "execution_count": 18,
     "metadata": {},
     "output_type": "execute_result"
    }
   ],
   "source": [
    "create_spline(Xdata, ydata)"
   ]
  },
  {
   "cell_type": "code",
   "execution_count": 19,
   "metadata": {},
   "outputs": [],
   "source": [
    "# k is the number of terms in the polynomials that comprise the spline, 3 = cubic\n",
    "# s is a smoothing factor\n",
    "\n",
    "#spl = UnivariateSpline(Xdata, ydata, k=3, s=800)"
   ]
  },
  {
   "cell_type": "code",
   "execution_count": 20,
   "metadata": {},
   "outputs": [],
   "source": [
    "# creates function for first derivative of spl spline implemented above, used in graph\n",
    "\n",
    "#derivative = spl.derivative()"
   ]
  },
  {
   "cell_type": "code",
   "execution_count": 21,
   "metadata": {},
   "outputs": [
    {
     "name": "stderr",
     "output_type": "stream",
     "text": [
      "C:\\Users\\Trader\\Anaconda3\\lib\\site-packages\\matplotlib\\cbook\\deprecation.py:107: MatplotlibDeprecationWarning: Adding an axes using the same arguments as a previous axes currently reuses the earlier instance.  In a future version, a new instance will always be created and returned.  Meanwhile, this warning can be suppressed, and the future behavior ensured, by passing a unique label to each axes instance.\n",
      "  warnings.warn(message, mplDeprecation, stacklevel=1)\n"
     ]
    },
    {
     "ename": "NameError",
     "evalue": "name 'spl' is not defined",
     "output_type": "error",
     "traceback": [
      "\u001b[1;31m---------------------------------------------------------------------------\u001b[0m",
      "\u001b[1;31mNameError\u001b[0m                                 Traceback (most recent call last)",
      "\u001b[1;32m<ipython-input-21-6ca353be5b67>\u001b[0m in \u001b[0;36m<module>\u001b[1;34m()\u001b[0m\n\u001b[0;32m      5\u001b[0m \u001b[0mplt\u001b[0m\u001b[1;33m.\u001b[0m\u001b[0mplot\u001b[0m\u001b[1;33m(\u001b[0m\u001b[0mXdata\u001b[0m\u001b[1;33m,\u001b[0m \u001b[0mydata\u001b[0m\u001b[1;33m,\u001b[0m \u001b[1;34m'o'\u001b[0m\u001b[1;33m,\u001b[0m \u001b[0mms\u001b[0m\u001b[1;33m=\u001b[0m\u001b[1;36m2\u001b[0m\u001b[1;33m)\u001b[0m\u001b[1;33m\u001b[0m\u001b[0m\n\u001b[0;32m      6\u001b[0m \u001b[0max1\u001b[0m \u001b[1;33m=\u001b[0m \u001b[0mfig\u001b[0m\u001b[1;33m.\u001b[0m\u001b[0madd_subplot\u001b[0m\u001b[1;33m(\u001b[0m\u001b[1;36m1\u001b[0m\u001b[1;33m,\u001b[0m\u001b[1;36m1\u001b[0m\u001b[1;33m,\u001b[0m\u001b[1;36m1\u001b[0m\u001b[1;33m)\u001b[0m\u001b[1;33m\u001b[0m\u001b[0m\n\u001b[1;32m----> 7\u001b[1;33m \u001b[0max1\u001b[0m\u001b[1;33m.\u001b[0m\u001b[0mplot\u001b[0m\u001b[1;33m(\u001b[0m\u001b[0mXdata\u001b[0m\u001b[1;33m,\u001b[0m \u001b[0mspl\u001b[0m\u001b[1;33m(\u001b[0m\u001b[0mXdata\u001b[0m\u001b[1;33m)\u001b[0m\u001b[1;33m,\u001b[0m \u001b[1;34m'g'\u001b[0m\u001b[1;33m,\u001b[0m \u001b[0mlw\u001b[0m\u001b[1;33m=\u001b[0m\u001b[1;36m3\u001b[0m\u001b[1;33m)\u001b[0m\u001b[1;33m\u001b[0m\u001b[0m\n\u001b[0m\u001b[0;32m      8\u001b[0m \u001b[0max1\u001b[0m\u001b[1;33m.\u001b[0m\u001b[0mset_ylabel\u001b[0m\u001b[1;33m(\u001b[0m\u001b[1;34m'Vol'\u001b[0m\u001b[1;33m)\u001b[0m\u001b[1;33m\u001b[0m\u001b[0m\n\u001b[0;32m      9\u001b[0m \u001b[1;33m\u001b[0m\u001b[0m\n",
      "\u001b[1;31mNameError\u001b[0m: name 'spl' is not defined"
     ]
    },
    {
     "data": {
      "image/png": "[encoded data removed]",
      "text/plain": [
       "<Figure size 432x288 with 1 Axes>"
      ]
     },
     "metadata": {
      "needs_background": "light"
     },
     "output_type": "display_data"
    }
   ],
   "source": [
    "# creates a plot with two axis, 111 indicates relative position and size of each plot\n",
    "# 211 can be used to create stacked plots\n",
    "\n",
    "fig = plt.figure()\n",
    "plt.plot(Xdata, ydata, 'o', ms=2)\n",
    "ax1 = fig.add_subplot(1,1,1)\n",
    "ax1.plot(Xdata, spl(Xdata), 'g', lw=3)\n",
    "ax1.set_ylabel('Vol')\n",
    "\n",
    "ax2 = ax1.twinx()\n",
    "ax2.plot(Xdata, derivative(Xdata), 'c--', lw=1)\n",
    "ax2.set_ylabel('1st Derivative', color='c')"
   ]
  },
  {
   "cell_type": "code",
   "execution_count": null,
   "metadata": {},
   "outputs": [],
   "source": []
  }
 ],
 "metadata": {
  "kernelspec": {
   "display_name": "Python 3",
   "language": "python",
   "name": "python3"
  },
  "language_info": {
   "codemirror_mode": {
    "name": "ipython",
    "version": 3
   },
   "file_extension": ".py",
   "mimetype": "text/x-python",
   "name": "python",
   "nbconvert_exporter": "python",
   "pygments_lexer": "ipython3",
   "version": "3.7.0"
  }
 },
 "nbformat": 4,
 "nbformat_minor": 2
}
