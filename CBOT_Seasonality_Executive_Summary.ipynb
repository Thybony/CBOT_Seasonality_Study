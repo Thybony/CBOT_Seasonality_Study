{
 "cells": [
  {
   "cell_type": "markdown",
   "metadata": {},
   "source": [
    "# Is seasonality a good predictor of implied volatility?\n",
    "\n",
    "The goal of this project is to test whether or not seasonality is a good predictor of implied volatility in CBOT grain products. The full project attempted four methods to predict model implied volatility, settling on a cubic spline interpolation. This is the implementation of that model."
   ]
  },
  {
   "cell_type": "code",
   "execution_count": 1,
   "metadata": {},
   "outputs": [],
   "source": [
    "#import relevant libraries\n",
    "import numpy as np\n",
    "import pandas as pd\n",
    "import matplotlib.pyplot as plt\n",
    "import datetime as dt\n",
    "import scipy as sp\n",
    "\n",
    "from scipy.interpolate import UnivariateSpline"
   ]
  },
  {
   "cell_type": "markdown",
   "metadata": {},
   "source": [
    "### In the section below, we aggregate implied volatility data into a data frame.\n",
    "\n",
    "In order to test our initial hypothesis, we need to pull some implied vol data and aggregate it into a single dataframe. We are using CSV files exported from a subscription website. Next, we need to set a range of days-to-expiration that we want to study, and drop any data not related to implied vol or that DTE range."
   ]
  },
  {
   "cell_type": "markdown",
   "metadata": {},
   "source": [
    "#### Create function to pull volatility data "
   ]
  },
  {
   "cell_type": "code",
   "execution_count": 2,
   "metadata": {},
   "outputs": [],
   "source": [
    "# created custom function to wrap up data cleaning work on vol csv files\n",
    "# its primary purpose is to take a CSV file and extract only the front month vols\n",
    "\n",
    "def front_vol_pull(csv, min_dte, max_dte, obs_id='Observation Date',\n",
    "                   vol_id='result', title_id='Stat', exp_id='exp_date0', \n",
    "                   location='C:/Users/Trader/Desktop/Dropbox/Data Science/DataSets/ImpVol/'):\n",
    "    \"\"\"\n",
    "    csv input must be a .CSV file with file extension. location must be a full file location folder. \n",
    "    min_dte & max_dte must be integers. obs_id describes heading above colume with dates, \n",
    "    title_id describes heading above column with data descriptions,\n",
    "    vol_id describes desired data from title_id column in csv, exp_id describes expiration date title in Stat column\n",
    "    \"\"\"\n",
    "    \n",
    "    # read in csv file from location as csv input\n",
    "    df = pd.read_csv(location+csv, index_col=False)\n",
    "    \n",
    "    # converts 'Observation Date' column in csv from string to pandas datetime object\n",
    "    df[obs_id] = pd.to_datetime(df[obs_id])\n",
    "    \n",
    "    # creates two dataframes, one with vol data and one with expiry dates\n",
    "    dfvols = df.loc[df[title_id] == vol_id]\n",
    "    dfexp = df.loc[df[title_id] == exp_id]\n",
    "    \n",
    "    # rename data column in vol dataframe to 'Vol'. 'Value' is heading of column with numerical data\n",
    "    dfvols.rename(columns={'Value':'Vol'}, inplace=True)\n",
    "    dfvols['Vol'] =  dfvols['Vol'].astype(float)\n",
    "    \n",
    "    # create truncated version of dfexp containing just the observation date and the expiry\n",
    "    # promote the 'Observation Date' & 'Year' column to the multi-index of the dataframe\n",
    "    # need to use multi-index to join with other dataframes\n",
    "    dfexp_trunc = dfexp[[obs_id, 'Year', 'Value']]\n",
    "    dfexp_trunc = dfexp_trunc.set_index([obs_id, 'Year'])\n",
    "    \n",
    "    # join the two dataframes on the multi-index of 'Observation Date' & 'Year'\n",
    "    dfvols_exp = dfvols.join(dfexp_trunc, on=[obs_id, 'Year'])\n",
    "    \n",
    "    # remove 'Stat' column and rename 'Value' to 'Expiry'\n",
    "    del dfvols_exp[title_id]\n",
    "    dfvols_exp.rename(columns={'Value':'Expiry'}, inplace=True)\n",
    "    \n",
    "    # converts 'Expiry' data to a pandas datetime object\n",
    "    dfvols_exp['Expiry'] = pd.to_datetime(dfvols_exp['Expiry'])\n",
    "    \n",
    "    # creates new column with Days to Expiration as a timedelta\n",
    "    dfvols_exp['DTE'] = dfvols_exp['Expiry'] - dfvols_exp[obs_id]\n",
    "    \n",
    "    # converts dte inputs to timedelta objects and creates new dataframe with filtered dates\n",
    "    max_dte = pd.Timedelta(days=max_dte)\n",
    "    min_dte = pd.Timedelta(days=min_dte)\n",
    "    df_fronts = dfvols_exp[(dfvols_exp['DTE'] <= max_dte) & (dfvols_exp['DTE'] > min_dte)]\n",
    "    \n",
    "    return df_fronts"
   ]
  },
  {
   "cell_type": "markdown",
   "metadata": {},
   "source": [
    "#### Pull and clean volatility data\n",
    "\n",
    "From here, we want to use the custom `front_vol_pull` function on a list of csv files containing implied volatility data. Then sort the data by time to expiration and drop any duplicate dates"
   ]
  },
  {
   "cell_type": "code",
   "execution_count": 3,
   "metadata": {},
   "outputs": [],
   "source": [
    "# create function to map day number to calendar date in pd.datetime format\n",
    "\n",
    "def day_num(date):\n",
    "    year = date.year\n",
    "    start = pd.datetime(year-1,12,31)\n",
    "    day = date - start\n",
    "    return(day.days)"
   ]
  },
  {
   "cell_type": "code",
   "execution_count": 4,
   "metadata": {},
   "outputs": [],
   "source": [
    "def sorted_vol_data(list_of_csvs, save_location=None):\n",
    "    '''\n",
    "    Returns a pandas dataframe containing the data returned from the function front_vol_pull for each\n",
    "    csv file in the list_of_csvs. Data contains only front month vols and is sorted by observation date.\n",
    "    save_location must be a string with a full file location if you want to export the dataframe to a csv,\n",
    "    leave as None if not.\n",
    "    '''\n",
    "    # create one large df with all data; create list of dataframes and concatenate them at the end of the process\n",
    "\n",
    "    full_data_set = pd.DataFrame()\n",
    "\n",
    "    for i in list_of_csvs:\n",
    "        df = front_vol_pull(i,10,80)\n",
    "        full_data_set = full_data_set.append(df)\n",
    "\n",
    "    # sort full_data_set based on DTE, drop entries with observation date overlap, keep shortest DTE\n",
    "    # re-sort by 'Observation Date' for better clarity, redefine as final_data\n",
    "    # can add parameter 'ascending=False' after 'DTE' to keep longer dated vols and avoid some front month noise\n",
    "\n",
    "    full_data_set = full_data_set.sort_values('DTE').drop_duplicates('Observation Date', keep='first')\n",
    "    full_data_set = full_data_set.sort_values('Observation Date')\n",
    "    \n",
    "    if save_location is not None:\n",
    "        full_data_set.to_csv(path_or_buf=save_location)\n",
    "\n",
    "    return full_data_set"
   ]
  },
  {
   "cell_type": "code",
   "execution_count": 5,
   "metadata": {},
   "outputs": [],
   "source": [
    "# create list of vol files\n",
    "\n",
    "vol_files = ['SFvol.csv','SHvol.csv','SKvol.csv','SNvol.csv','SQvol.csv','SUvol.csv','SXvol.csv']"
   ]
  },
  {
   "cell_type": "code",
   "execution_count": 6,
   "metadata": {},
   "outputs": [
    {
     "name": "stderr",
     "output_type": "stream",
     "text": [
      "C:\\Users\\Trader\\Anaconda3\\lib\\site-packages\\pandas\\core\\frame.py:3781: SettingWithCopyWarning: \n",
      "A value is trying to be set on a copy of a slice from a DataFrame\n",
      "\n",
      "See the caveats in the documentation: http://pandas.pydata.org/pandas-docs/stable/indexing.html#indexing-view-versus-copy\n",
      "  return super(DataFrame, self).rename(**kwargs)\n",
      "C:\\Users\\Trader\\Anaconda3\\lib\\site-packages\\ipykernel_launcher.py:26: SettingWithCopyWarning: \n",
      "A value is trying to be set on a copy of a slice from a DataFrame.\n",
      "Try using .loc[row_indexer,col_indexer] = value instead\n",
      "\n",
      "See the caveats in the documentation: http://pandas.pydata.org/pandas-docs/stable/indexing.html#indexing-view-versus-copy\n"
     ]
    }
   ],
   "source": [
    "final_data = sorted_vol_data(vol_files)"
   ]
  },
  {
   "cell_type": "code",
   "execution_count": 7,
   "metadata": {},
   "outputs": [],
   "source": [
    "# limit data to contract years 2014 or later\n",
    "\n",
    "recent_data2 = final_data[final_data['Year'] > 2013]"
   ]
  },
  {
   "cell_type": "code",
   "execution_count": 8,
   "metadata": {},
   "outputs": [],
   "source": [
    "def avg_vol_by_day(vol_data, years):\n",
    "    '''\n",
    "    \n",
    "    '''\n",
    "\n",
    "    # map day_num function to 'Observation Date'\n",
    "\n",
    "    vol_data['Day Num'] = vol_data.apply(lambda x: day_num(x['Observation Date']), axis=1)\n",
    "\n",
    "    # create a list of dataframes, each containing day number and vol for that day\n",
    "\n",
    "    data_by_year = []\n",
    "    for year in years:\n",
    "        data = vol_data[(vol_data['Observation Date'] <= pd.datetime(year,12,31))\n",
    "                             & (vol_data['Observation Date'] >= pd.datetime(year,1,1))]\n",
    "        data = data[['Day Num','Vol']]\n",
    "        data.set_index('Day Num', inplace=True)\n",
    "        data_by_year.append(data)\n",
    "\n",
    "    # creates a new dataframe with a range of day numbers, then joins vol data to that dataframe for each year in a range\n",
    "\n",
    "    years_strings = [str(i) for i in years]\n",
    "\n",
    "    vol_by_day = pd.DataFrame({'Day Num': range(1,367)})\n",
    "\n",
    "    position = 0\n",
    "\n",
    "    for year in years_strings:\n",
    "\n",
    "        vol_by_day = vol_by_day.join(data_by_year[position], on='Day Num', rsuffix='_'+year)\n",
    "        vol_by_day.rename(columns={'Vol': year}, inplace=True)\n",
    "\n",
    "        position += 1\n",
    "        \n",
    "    # impute implied volatility for days with 'NaN' in vol_data dataframe\n",
    "    # because NaN values are weekend days or holidays, \n",
    "    # we can assume the implied volatility for that day is equal to the nearst day. \n",
    "    # i.e. The implied vol on Saturday when markets are closed is assumed to be the implied vol at close on Friday\n",
    "    # limit=1 means only 1 NaN value will be filled. Alternate bfill & ffill to get best approximation\n",
    "\n",
    "    vol_by_day = vol_by_day.fillna(method='ffill', limit=1)\n",
    "    vol_by_day = vol_by_day.fillna(method='bfill', limit=1)\n",
    "    vol_by_day = vol_by_day.fillna(method='ffill')\n",
    "    vol_by_day = vol_by_day.fillna(method='bfill')\n",
    "    \n",
    "    # create column with average of year columns\n",
    "\n",
    "    vol_by_day['Day Avg Vol'] = vol_by_day[years_strings].mean(axis=1)\n",
    "    \n",
    "    return vol_by_day"
   ]
  },
  {
   "cell_type": "code",
   "execution_count": 9,
   "metadata": {},
   "outputs": [
    {
     "name": "stderr",
     "output_type": "stream",
     "text": [
      "C:\\Users\\Trader\\Anaconda3\\lib\\site-packages\\ipykernel_launcher.py:8: SettingWithCopyWarning: \n",
      "A value is trying to be set on a copy of a slice from a DataFrame.\n",
      "Try using .loc[row_indexer,col_indexer] = value instead\n",
      "\n",
      "See the caveats in the documentation: http://pandas.pydata.org/pandas-docs/stable/indexing.html#indexing-view-versus-copy\n",
      "  \n"
     ]
    }
   ],
   "source": [
    "vol_data = avg_vol_by_day(recent_data2, range(2014,2019))"
   ]
  },
  {
   "cell_type": "markdown",
   "metadata": {},
   "source": [
    "Were going to implement a regression spline using knots along the path of average vol through the year. \n",
    "\n",
    "Wrap into single function all below"
   ]
  },
  {
   "cell_type": "code",
   "execution_count": 10,
   "metadata": {},
   "outputs": [],
   "source": [
    "# create X and y data\n",
    "\n",
    "Xdata = vol_data['Day Num']\n",
    "ydata = vol_data['Day Avg Vol']"
   ]
  },
  {
   "cell_type": "code",
   "execution_count": 11,
   "metadata": {},
   "outputs": [
    {
     "name": "stdout",
     "output_type": "stream",
     "text": [
      "Avg. Vol Error:  1.383\n"
     ]
    }
   ],
   "source": [
    "# k is the number of terms in the polynomials that comprise the spline, 3 = cubic\n",
    "# s is a smoothing factor\n",
    "\n",
    "spl = UnivariateSpline(Xdata, ydata, k=3, s=700)\n",
    "\n",
    "# creates function for first derivative of spl spline implemented above, used in graph\n",
    "\n",
    "derivative = spl.derivative()\n",
    "\n",
    "print('Avg. Vol Error: ', round(np.sqrt(spl.get_residual() / 366), 3))"
   ]
  },
  {
   "cell_type": "code",
   "execution_count": 12,
   "metadata": {},
   "outputs": [
    {
     "name": "stderr",
     "output_type": "stream",
     "text": [
      "C:\\Users\\Trader\\Anaconda3\\lib\\site-packages\\matplotlib\\cbook\\deprecation.py:107: MatplotlibDeprecationWarning: Adding an axes using the same arguments as a previous axes currently reuses the earlier instance.  In a future version, a new instance will always be created and returned.  Meanwhile, this warning can be suppressed, and the future behavior ensured, by passing a unique label to each axes instance.\n",
      "  warnings.warn(message, mplDeprecation, stacklevel=1)\n"
     ]
    },
    {
     "data": {
      "text/plain": [
       "Text(0,0.5,'1st Derivative')"
      ]
     },
     "execution_count": 12,
     "metadata": {},
     "output_type": "execute_result"
    },
    {
     "data": {
      "image/png": "[encoded data removed]",
      "text/plain": [
       "<Figure size 432x288 with 2 Axes>"
      ]
     },
     "metadata": {
      "needs_background": "light"
     },
     "output_type": "display_data"
    }
   ],
   "source": [
    "# creates a plot with two axis, 111 indicates relative position and size of each plot\n",
    "# 211 can be used to create stacked plots\n",
    "\n",
    "fig = plt.figure()\n",
    "plt.plot(Xdata, ydata, 'o', ms=2)\n",
    "ax1 = fig.add_subplot(1,1,1)\n",
    "ax1.plot(Xdata, spl(Xdata), 'g', lw=3)\n",
    "ax1.set_ylabel('Vol')\n",
    "\n",
    "ax2 = ax1.twinx()\n",
    "ax2.plot(Xdata, derivative(Xdata), 'c--', lw=1)\n",
    "ax2.set_ylabel('1st Derivative', color='c')"
   ]
  },
  {
   "cell_type": "code",
   "execution_count": null,
   "metadata": {},
   "outputs": [],
   "source": []
  },
  {
   "cell_type": "code",
   "execution_count": null,
   "metadata": {},
   "outputs": [],
   "source": []
  }
 ],
 "metadata": {
  "kernelspec": {
   "display_name": "Python 3",
   "language": "python",
   "name": "python3"
  },
  "language_info": {
   "codemirror_mode": {
    "name": "ipython",
    "version": 3
   },
   "file_extension": ".py",
   "mimetype": "text/x-python",
   "name": "python",
   "nbconvert_exporter": "python",
   "pygments_lexer": "ipython3",
   "version": "3.7.0"
  }
 },
 "nbformat": 4,
 "nbformat_minor": 2
}
